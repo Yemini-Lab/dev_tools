{
 "cells": [
  {
   "cell_type": "code",
   "execution_count": 1,
   "id": "23514002-5e05-4752-93a3-061671d19cf5",
   "metadata": {},
   "outputs": [],
   "source": [
    "import os\n",
    "import math\n",
    "import pynwb\n",
    "import numpy as np\n",
    "from pynwb import NWBHDF5IO\n",
    "from support_library.nwb.validation import validate\n",
    "from support_library.nwb.visualizer import visualize\n",
    "import warnings\n",
    "\n",
    "warnings.filterwarnings(\"ignore\")"
   ]
  },
  {
   "cell_type": "code",
   "execution_count": 2,
   "id": "fe787e46-bfee-42af-be49-58f935338a17",
   "metadata": {},
   "outputs": [],
   "source": [
    "target_directory = 'F:\\\\0-sample_data\\\\venkatachalam'\n",
    "subjects_to_visualize = [1, 5, 10, 15, 20, 22, 25]"
   ]
  },
  {
   "cell_type": "code",
   "execution_count": null,
   "id": "9e91bbc5-d5b7-49e6-8022-7826962b8927",
   "metadata": {},
   "outputs": [
    {
     "name": "stdout",
     "output_type": "stream",
     "text": [
      "Scanning F:\\0-sample_data\\venkatachalam...\n",
      "1 Processing sub-20220327-h2_ses-20220327_ophys.nwb...\n",
      "1 | Attempting to read sub-20220327-h2_ses-20220327_ophys.nwb...\n",
      "1 | Validating sub-20220327-h2_ses-20220327_ophys.nwb...\n",
      "1 | Validation FAILED:\n",
      "1 | | Strain: not specified\n",
      "1 | | CalciumImageSeries: channel BFP contains filler info\n",
      "1 | | CalciumImageSeries: channel GCaMP contains filler info\n",
      "1 | | NeuroPALImageRaw: channel BFP contains filler info\n",
      "1 | | NeuroPALImageRaw: channel GCaMP contains filler info\n",
      "1 | | .processing Modules: PASSED\n",
      "1 | Visualizing because this is subject #1...\n"
     ]
    },
    {
     "name": "stderr",
     "output_type": "stream",
     "text": [
      "Clipping input data to the valid range for imshow with RGB data ([0..1] for floats or [0..255] for integers). Got range [0..65025].\n",
      "Clipping input data to the valid range for imshow with RGB data ([0..1] for floats or [0..255] for integers). Got range [0..65025].\n"
     ]
    },
    {
     "name": "stdout",
     "output_type": "stream",
     "text": [
      "2 Processing sub-20220327-h4_ses-20220327_ophys.nwb...\n",
      "2 | Attempting to read sub-20220327-h4_ses-20220327_ophys.nwb...\n",
      "2 | Validating sub-20220327-h4_ses-20220327_ophys.nwb...\n",
      "2 | Validation FAILED:\n",
      "2 | | Strain: not specified\n",
      "2 | | CalciumImageSeries: channel BFP contains filler info\n",
      "2 | | CalciumImageSeries: channel GCaMP contains filler info\n",
      "2 | | NeuroPALImageRaw: channel BFP contains filler info\n",
      "2 | | NeuroPALImageRaw: channel GCaMP contains filler info\n",
      "2 | | .processing Modules: PASSED\n",
      "3 Processing sub-20220329-m10_ses-20220329_ophys.nwb...\n",
      "3 | Attempting to read sub-20220329-m10_ses-20220329_ophys.nwb...\n",
      "3 | Validating sub-20220329-m10_ses-20220329_ophys.nwb...\n",
      "3 | Validation FAILED:\n",
      "3 | | Strain: not specified\n",
      "3 | | CalciumImageSeries: channel BFP contains filler info\n",
      "3 | | CalciumImageSeries: channel GCaMP contains filler info\n",
      "3 | | NeuroPALImageRaw: channel BFP contains filler info\n",
      "3 | | NeuroPALImageRaw: channel GCaMP contains filler info\n",
      "3 | | .processing Modules: PASSED\n",
      "4 Processing sub-20220329-m6_ses-20220329_ophys.nwb...\n",
      "4 | Attempting to read sub-20220329-m6_ses-20220329_ophys.nwb...\n",
      "4 | Validating sub-20220329-m6_ses-20220329_ophys.nwb...\n",
      "4 | Validation FAILED:\n",
      "4 | | Strain: not specified\n",
      "4 | | CalciumImageSeries: channel BFP contains filler info\n",
      "4 | | CalciumImageSeries: channel GCaMP contains filler info\n",
      "4 | | NeuroPALImageRaw: channel BFP contains filler info\n",
      "4 | | NeuroPALImageRaw: channel GCaMP contains filler info\n",
      "4 | | .processing Modules: PASSED\n",
      "5 Processing sub-20220329-m7_ses-20220329_ophys.nwb...\n",
      "5 | Attempting to read sub-20220329-m7_ses-20220329_ophys.nwb...\n",
      "5 | Validating sub-20220329-m7_ses-20220329_ophys.nwb...\n",
      "5 | Validation FAILED:\n",
      "5 | | Strain: not specified\n",
      "5 | | CalciumImageSeries: channel BFP contains filler info\n",
      "5 | | CalciumImageSeries: channel GCaMP contains filler info\n",
      "5 | | NeuroPALImageRaw: channel BFP contains filler info\n",
      "5 | | NeuroPALImageRaw: channel GCaMP contains filler info\n",
      "5 | | .processing Modules: PASSED\n",
      "5 | Visualizing because this is subject #5...\n"
     ]
    },
    {
     "name": "stderr",
     "output_type": "stream",
     "text": [
      "Clipping input data to the valid range for imshow with RGB data ([0..1] for floats or [0..255] for integers). Got range [0..65025].\n",
      "Clipping input data to the valid range for imshow with RGB data ([0..1] for floats or [0..255] for integers). Got range [0..65025].\n"
     ]
    }
   ],
   "source": [
    "total_files = 0\n",
    "valid_files = 0\n",
    "\n",
    "print(f\"Scanning {target_directory}...\")\n",
    "for dirpath, dirnames, filenames in os.walk(target_directory):    \n",
    "    for filename in filenames:\n",
    "      if filename.endswith(\".nwb\"):\n",
    "        f = os.path.join(dirpath, filename)\n",
    "        total_files += 1\n",
    "        print(f\"{total_files} Processing {filename}...\")\n",
    "        print(f\"{total_files} | Attempting to read {filename}...\")\n",
    "        with NWBHDF5IO(f, mode='r') as read_io:\n",
    "            nwbfile = read_io.read()\n",
    "              \n",
    "            print(f\"{total_files} | Validating {filename}...\")\n",
    "            is_valid, validation_summary = validate(nwbfile)\n",
    "            print(f\"{total_files} | Validation {'PASSED' if is_valid else 'FAILED'}:\")\n",
    "            print(f\"{total_files} | | \" + validation_summary.replace('\\n', f'\\n{total_files} | |'))\n",
    "\n",
    "            if is_valid:\n",
    "                valid_files += 1\n",
    "\n",
    "            if total_files in subjects_to_visualize:\n",
    "                print(f\"{total_files} | Visualizing because this is subject #{total_files}...\")\n",
    "                visualize(nwbfile)\n",
    "\n",
    "print(f\"\\n{valid_files}/{total_files} ({(valid_files/total_files)*100}%) valid.\")"
   ]
  }
 ],
 "metadata": {
  "kernelspec": {
   "display_name": "Python 3 (ipykernel)",
   "language": "python",
   "name": "python3"
  },
  "language_info": {
   "codemirror_mode": {
    "name": "ipython",
    "version": 3
   },
   "file_extension": ".py",
   "mimetype": "text/x-python",
   "name": "python",
   "nbconvert_exporter": "python",
   "pygments_lexer": "ipython3",
   "version": "3.10.0"
  }
 },
 "nbformat": 4,
 "nbformat_minor": 5
}
