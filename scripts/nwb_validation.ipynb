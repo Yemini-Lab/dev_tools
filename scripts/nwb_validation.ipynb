{
 "cells": [
  {
   "cell_type": "code",
   "execution_count": 1,
   "id": "23514002-5e05-4752-93a3-061671d19cf5",
   "metadata": {},
   "outputs": [],
   "source": [
    "import os\n",
    "import math\n",
    "import pynwb\n",
    "import numpy as np\n",
    "from pynwb import NWBHDF5IO\n",
    "from support_library.nwb.validation import validate\n",
    "from support_library.nwb.visualizer import visualize"
   ]
  },
  {
   "cell_type": "code",
   "execution_count": 2,
   "id": "fe787e46-bfee-42af-be49-58f935338a17",
   "metadata": {},
   "outputs": [],
   "source": [
    "target_directory = 'F:\\\\0-sample_data\\\\venkatachalam'\n",
    "subjects_to_visualize = [1, 5, 10, 15, 20, 22, 25]"
   ]
  },
  {
   "cell_type": "code",
   "execution_count": 14,
   "id": "9e91bbc5-d5b7-49e6-8022-7826962b8927",
   "metadata": {},
   "outputs": [
    {
     "name": "stdout",
     "output_type": "stream",
     "text": [
      "Scanning F:\\0-sample_data\\venkatachalam...\n",
      "- Processing sub-20220327-h2_ses-20220327_ophys.nwb...\n",
      "- - Attempting to read sub-20220327-h2_ses-20220327_ophys.nwb...\n",
      "- - Validating sub-20220327-h2_ses-20220327_ophys.nwb...\n",
      "- - Validation FAILED:\n",
      "- - - Strain: not specified\n",
      "- - - CalciumImageSeries: channel BFP contains filler info\n",
      "- - - CalciumImageSeries: channel GCaMP contains filler info\n",
      "- - - NeuroPALImageRaw: channel BFP contains filler info\n",
      "- - - NeuroPALImageRaw: channel GCaMP contains filler info\n",
      "- - - .processing Modules: PASSED\n",
      "\n"
     ]
    },
    {
     "ename": "ValueError",
     "evalue": "",
     "output_type": "error",
     "traceback": [
      "\u001b[1;31m---------------------------------------------------------------------------\u001b[0m",
      "\u001b[1;31mValueError\u001b[0m                                Traceback (most recent call last)",
      "Cell \u001b[1;32mIn[14], line 18\u001b[0m\n\u001b[0;32m     15\u001b[0m \u001b[38;5;28mprint\u001b[39m(\u001b[38;5;124mf\u001b[39m\u001b[38;5;124m\"\u001b[39m\u001b[38;5;124m- - Validation \u001b[39m\u001b[38;5;132;01m{\u001b[39;00m\u001b[38;5;124m'\u001b[39m\u001b[38;5;124mPASSED\u001b[39m\u001b[38;5;124m'\u001b[39m\u001b[38;5;250m \u001b[39m\u001b[38;5;28;01mif\u001b[39;00m\u001b[38;5;250m \u001b[39mis_valid\u001b[38;5;250m \u001b[39m\u001b[38;5;28;01melse\u001b[39;00m\u001b[38;5;250m \u001b[39m\u001b[38;5;124m'\u001b[39m\u001b[38;5;124mFAILED\u001b[39m\u001b[38;5;124m'\u001b[39m\u001b[38;5;132;01m}\u001b[39;00m\u001b[38;5;124m:\u001b[39m\u001b[38;5;124m\"\u001b[39m)\n\u001b[0;32m     16\u001b[0m \u001b[38;5;28mprint\u001b[39m(\u001b[38;5;124m\"\u001b[39m\u001b[38;5;124m- - - \u001b[39m\u001b[38;5;124m\"\u001b[39m \u001b[38;5;241m+\u001b[39m validation_summary\u001b[38;5;241m.\u001b[39mreplace(\u001b[38;5;124m'\u001b[39m\u001b[38;5;130;01m\\n\u001b[39;00m\u001b[38;5;124m'\u001b[39m, \u001b[38;5;124m'\u001b[39m\u001b[38;5;130;01m\\n\u001b[39;00m\u001b[38;5;124m- - -\u001b[39m\u001b[38;5;124m'\u001b[39m) \u001b[38;5;241m+\u001b[39m \u001b[38;5;124m\"\u001b[39m\u001b[38;5;130;01m\\n\u001b[39;00m\u001b[38;5;124m\"\u001b[39m)\n\u001b[1;32m---> 18\u001b[0m \u001b[38;5;28;01mraise\u001b[39;00m \u001b[38;5;167;01mValueError\u001b[39;00m\n\u001b[0;32m     20\u001b[0m \u001b[38;5;28;01mif\u001b[39;00m f_num \u001b[38;5;129;01min\u001b[39;00m subjects_to_visualize:\n\u001b[0;32m     21\u001b[0m     \u001b[38;5;28mprint\u001b[39m(\u001b[38;5;124mf\u001b[39m\u001b[38;5;124m\"\u001b[39m\u001b[38;5;124m- This is subject #\u001b[39m\u001b[38;5;132;01m{\u001b[39;00mf_num\u001b[38;5;132;01m}\u001b[39;00m\u001b[38;5;124m, visualizing...\u001b[39m\u001b[38;5;124m\"\u001b[39m)\n",
      "\u001b[1;31mValueError\u001b[0m: "
     ]
    }
   ],
   "source": [
    "total_files = 0\n",
    "valid_files = 0\n",
    "\n",
    "print(f\"Scanning {target_directory}...\")\n",
    "for dirpath, dirnames, filenames in os.walk(target_directory):    \n",
    "    for filename in filenames:\n",
    "      if filename.endswith(\".nwb\"):\n",
    "        f = os.path.join(dirpath, filename)\n",
    "        total_files += 1\n",
    "        print(f\"- Processing {filename}...\")\n",
    "        print(f\"- - Attempting to read {filename}...\")\n",
    "        with NWBHDF5IO(f, mode='r') as read_io:\n",
    "            nwbfile = read_io.read()\n",
    "              \n",
    "            print(f\"- - Validating {filename}...\")\n",
    "            is_valid, validation_summary = validate(nwbfile)\n",
    "            print(f\"- - Validation {'PASSED' if is_valid else 'FAILED'}:\")\n",
    "            print(\"- - - \" + validation_summary.replace('\\n', '\\n- - -') + \"\\n\")\n",
    "\n",
    "            if is_valid:\n",
    "                valid_files += 1\n",
    "\n",
    "            if total_files in subjects_to_visualize:\n",
    "                print(f\"- - Visualizing because this is subject #{total_files}...\")\n",
    "                visualize(nwbfile)\n",
    "\n",
    "print(f\"\\n{valid_files}/{total_files} ({(valid_files/total_files)*100}%) valid.\")"
   ]
  }
 ],
 "metadata": {
  "kernelspec": {
   "display_name": "Python 3 (ipykernel)",
   "language": "python",
   "name": "python3"
  },
  "language_info": {
   "codemirror_mode": {
    "name": "ipython",
    "version": 3
   },
   "file_extension": ".py",
   "mimetype": "text/x-python",
   "name": "python",
   "nbconvert_exporter": "python",
   "pygments_lexer": "ipython3",
   "version": "3.10.0"
  }
 },
 "nbformat": 4,
 "nbformat_minor": 5
}
