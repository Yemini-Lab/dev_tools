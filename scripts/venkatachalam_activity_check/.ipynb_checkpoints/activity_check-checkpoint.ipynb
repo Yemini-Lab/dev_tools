{
 "cells": [
  {
   "cell_type": "code",
   "execution_count": 44,
   "id": "93267460-9961-4241-9db6-96a29ef11cc1",
   "metadata": {},
   "outputs": [
    {
     "name": "stdout",
     "output_type": "stream",
     "text": [
      "   Unnamed: 0  dataset_idx      date            sex  animal  \\\n",
      "0           0            0  20220327  hermaphrodite       2   \n",
      "1           1            0  20220327  hermaphrodite       2   \n",
      "2           2            0  20220327  hermaphrodite       2   \n",
      "3           3            0  20220327  hermaphrodite       2   \n",
      "4           4            0  20220327  hermaphrodite       2   \n",
      "\n",
      "                                            stimulus    neuron_group neuron  \\\n",
      "0  [['183', '100mM NaCl'], ['342', 'e-2 IAA'], ['...  amphid_sensory   ADFL   \n",
      "1  [['183', '100mM NaCl'], ['342', 'e-2 IAA'], ['...  amphid_sensory   ADFR   \n",
      "2  [['183', '100mM NaCl'], ['342', 'e-2 IAA'], ['...  amphid_sensory   ADLL   \n",
      "3  [['183', '100mM NaCl'], ['342', 'e-2 IAA'], ['...  amphid_sensory   ADLR   \n",
      "4  [['183', '100mM NaCl'], ['342', 'e-2 IAA'], ['...  amphid_sensory   AFDL   \n",
      "\n",
      "   conf   0  ...  4969  4970  4971  4972  4973  4974  4975  4976  4977  4978  \n",
      "0   1.0 NaN  ...  0.20  0.20  0.27  0.07  0.53  0.27  0.20  0.20  0.07  0.00  \n",
      "1   1.0 NaN  ...  0.60  1.33  1.47  1.27  1.07  0.33  1.33  1.60  1.20  1.00  \n",
      "2   1.0 NaN  ...  0.07  0.13  0.20  0.00  0.07  0.00  0.13  0.13  0.00  0.07  \n",
      "3   1.0 NaN  ...  2.87  2.80  2.93  2.93  3.27  2.27  2.53  2.53  2.27  3.07  \n",
      "4   1.0 NaN  ...  0.93  1.40  1.00  1.20  0.67  1.27  1.00  1.27  1.07  1.13  \n",
      "\n",
      "[5 rows x 4988 columns]\n"
     ]
    }
   ],
   "source": [
    "import pandas as pd\n",
    "\n",
    "fpath = \"D:\\\\Venkatachalam\\\\maedeh_onedrive\\\\raw.csv\"\n",
    "df = pd.read_csv(fpath)\n",
    "print(df.head())"
   ]
  },
  {
   "cell_type": "code",
   "execution_count": 60,
   "id": "18a869f2-66a0-4df8-9813-9400414d46b2",
   "metadata": {
    "scrolled": true
   },
   "outputs": [
    {
     "name": "stdout",
     "output_type": "stream",
     "text": [
      "DF total shape is (8358, 4988). \n",
      "\n",
      "Searching for male worm #2 recorded on 20221014.\n",
      "- 70 matches for this date.\n",
      "- 70 matches for this animal ID.\n",
      "- 0 matches for our target neurons.\n",
      "- Could only find these neurons: \n",
      "['BAGL', 'BAGR', 'URADL', 'URADR', 'URAVL', 'URAVR', 'URBL', 'URBR', 'URYDL', 'URYDR', 'URYVL', 'URYVR', 'CEMVL', 'CEMVR', 'CEPVL', 'CEPVR', 'IL1DL', 'IL1DR', 'IL1L', 'IL1R', 'IL1VL', 'IL1VR', 'IL2DL', 'IL2DR', 'IL2L', 'IL2R', 'IL2VL', 'IL2VR', 'OLLL', 'OLLR', 'OLQDL', 'OLQDR', 'OLQVL', 'OLQVR', 'MCML', 'MCMR', 'RIPL', 'RIPR', 'RMED', 'RMEL', 'RMER', 'RMEV']\n",
      "\n",
      "Searching for male worm #3 recorded on 20221014.\n",
      "- 70 matches for this date.\n",
      "- 70 matches for this animal ID.\n",
      "- 1 matches for our target neurons.\n",
      "- Could only find these neurons: \n",
      "['VB2']\n",
      "\n",
      "Searching for male worm #5 recorded on 20220701.\n",
      "- 70 matches for this date.\n",
      "- 70 matches for this animal ID.\n",
      "- 2 matches for our target neurons.\n",
      "- Could only find these neurons: \n",
      "['I2L', 'I2R']\n",
      "\n"
     ]
    }
   ],
   "source": [
    "target_neurons = ['AWAL', 'I2L', 'AVAL', 'AVBL', 'AWAR', 'I2R', 'AVAR', 'AVBR', 'VB2']\n",
    "to_investigate = ['20221014_m2', '20221014_m3', '20220701_m5']\n",
    "\n",
    "print(f\"DF total shape is {df.shape}. \\n\")\n",
    "for each_worm in to_investigate:\n",
    "    subj_id = each_worm.split('_')\n",
    "\n",
    "    date = subj_id[0]\n",
    "    animal_id = subj_id[1][1]\n",
    "    sex = 'male'\n",
    "\n",
    "    print(f\"Searching for {sex} worm #{animal_id} recorded on {date}.\")\n",
    "    animal_filter = df[df['date'] == int(date)]\n",
    "    print(f\"- {target_animal.shape[0]} matches for this date.\")\n",
    "    animal_filter = animal_filter[animal_filter['animal'] == int(animal_id)]\n",
    "    print(f\"- {target_animal.shape[0]} matches for this animal ID.\")\n",
    "    animal_filter = animal_filter[animal_filter['sex'] == sex]\n",
    "\n",
    "    neuron_filter = animal_filter[animal_filter['neuron'].isin(target_neurons)]\n",
    "    print(f\"- {neuron_filter.shape[0]} matches for our target neurons.\")\n",
    "\n",
    "    if neuron_filter.shape[0] != 0:\n",
    "        neurons = list(neuron_filter['neuron'])\n",
    "        print(f\"- Could only find these target neurons: \\n{neurons}\\n\")\n",
    "    else:\n",
    "        neurons = list(animal_filter['neuron'])\n",
    "        print(f\"- Could only find these neurons: \\n{neurons}\\n\")"
   ]
  },
  {
   "cell_type": "code",
   "execution_count": null,
   "id": "a3c32160-b82c-49f0-9b52-eb2163a83d14",
   "metadata": {},
   "outputs": [],
   "source": []
  }
 ],
 "metadata": {
  "kernelspec": {
   "display_name": "Python 3 (ipykernel)",
   "language": "python",
   "name": "python3"
  },
  "language_info": {
   "codemirror_mode": {
    "name": "ipython",
    "version": 3
   },
   "file_extension": ".py",
   "mimetype": "text/x-python",
   "name": "python",
   "nbconvert_exporter": "python",
   "pygments_lexer": "ipython3",
   "version": "3.10.0"
  }
 },
 "nbformat": 4,
 "nbformat_minor": 5
}
