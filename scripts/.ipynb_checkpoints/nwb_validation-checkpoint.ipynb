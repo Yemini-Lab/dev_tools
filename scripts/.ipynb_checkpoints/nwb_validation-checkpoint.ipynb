{
 "cells": [
  {
   "cell_type": "code",
   "execution_count": 2,
   "id": "23514002-5e05-4752-93a3-061671d19cf5",
   "metadata": {},
   "outputs": [],
   "source": [
    "import os\n",
    "import pynwb\n",
    "from pynwb import NWBHDF5IO"
   ]
  },
  {
   "cell_type": "code",
   "execution_count": 3,
   "id": "fe787e46-bfee-42af-be49-58f935338a17",
   "metadata": {},
   "outputs": [],
   "source": [
    "target_directory = 'F:\\\\0-sample_data\\\\venkatachalam'"
   ]
  },
  {
   "cell_type": "code",
   "execution_count": 4,
   "id": "355b90b0-2b83-4993-b3e8-b36383bd30f9",
   "metadata": {},
   "outputs": [],
   "source": [
    "subject_dict = {\n",
    "    'sex': ['O', 'X'],\n",
    "    'species': 'http://purl.obolibrary.org/obo/NCBITaxon_6239',\n",
    "}\n",
    "\n",
    "acquisition_dict = {\n",
    "    'expected_keys' : ['CalciumImageSeries', 'NeuroPALImageRaw'],\n",
    "    'expected_grid_spacing': [0.4 0.4 1.5],\n",
    "    'expected_channels': ['BFP', 'CyOFP', 'GCaMP', 'RFP', 'mNeptune']\n",
    "}"
   ]
  },
  {
   "cell_type": "code",
   "execution_count": 32,
   "id": "b295dd18-5d6b-48c0-bb46-129a52f4ced0",
   "metadata": {},
   "outputs": [
    {
     "ename": "SyntaxError",
     "evalue": "invalid syntax (1857294536.py, line 6)",
     "output_type": "error",
     "traceback": [
      "\u001b[1;36m  Cell \u001b[1;32mIn[32], line 6\u001b[1;36m\u001b[0m\n\u001b[1;33m    if nwb_obj.subject.species ~= subject_dict['species']:\u001b[0m\n\u001b[1;37m                               ^\u001b[0m\n\u001b[1;31mSyntaxError\u001b[0m\u001b[1;31m:\u001b[0m invalid syntax\n"
     ]
    }
   ],
   "source": [
    "def validate_nwb(nwb_obj):\n",
    "    issue_list = []\n",
    "    if nwb_obj.subject.sex not in subject_dict['sex']:\n",
    "        issue_list += ['subject sex']\n",
    "\n",
    "    if nwb_obj.subject.species ~= subject_dict['species']:\n",
    "        issue_list += ['subject species']\n",
    "\n",
    "    acquisition_modules = list(nwb_obj.acquisition.keys())\n",
    "    if acquisition_modules ~= acquisition_dict['expected_keys']:\n",
    "        issue_list += ['acquisition keys']\n",
    "\n",
    "    for each_acquisition_module in acquisition_modules:\n",
    "        if each_acquisition_module.imaging_volume.grid_spacing[:] ~= acquisition_dict['expected_grid_spacing']:\n",
    "            issue_list += [f\"{each_acquisition_module.name} grid_spacing\"]\n",
    "\n",
    "        channels = each_acquisition_module.imaging_volume.optical_channel\n",
    "        for each_channel in channels:\n",
    "            if each_channel.name not in expected_channels\n",
    "            or each_channel.emission_range[:] == [0, 0]  \n",
    "            or each_channel.emission_lambda == 0\n",
    "            or each_channel.excitation_range[:] == [0, 0]\n",
    "            or each_channel.excitation_lambda == 0:\n",
    "                issue_list += [f\"{each_acquisition_module.name} channel: {each_channel.name}\"]\n",
    "\n",
    "    if len(issue_list) > 0:\n",
    "        return False\n",
    "    else:\n",
    "        return True"
   ]
  },
  {
   "cell_type": "code",
   "execution_count": 31,
   "id": "9e91bbc5-d5b7-49e6-8022-7826962b8927",
   "metadata": {},
   "outputs": [
    {
     "name": "stdout",
     "output_type": "stream",
     "text": [
      "Scanning F:\\0-sample_data\\venkatachalam...\n",
      "[400. 500.]\n"
     ]
    },
    {
     "ename": "NameError",
     "evalue": "name 'validate_nwb' is not defined",
     "output_type": "error",
     "traceback": [
      "\u001b[1;31m---------------------------------------------------------------------------\u001b[0m",
      "\u001b[1;31mNameError\u001b[0m                                 Traceback (most recent call last)",
      "Cell \u001b[1;32mIn[31], line 10\u001b[0m\n\u001b[0;32m      7\u001b[0m nwbfile \u001b[38;5;241m=\u001b[39m read_io\u001b[38;5;241m.\u001b[39mread()\n\u001b[0;32m      8\u001b[0m \u001b[38;5;28mprint\u001b[39m(nwbfile\u001b[38;5;241m.\u001b[39macquisition[\u001b[38;5;124m'\u001b[39m\u001b[38;5;124mNeuroPALImageRaw\u001b[39m\u001b[38;5;124m'\u001b[39m]\u001b[38;5;241m.\u001b[39mimaging_volume\u001b[38;5;241m.\u001b[39moptical_channel[\u001b[38;5;241m0\u001b[39m]\u001b[38;5;241m.\u001b[39memission_range[:])\n\u001b[1;32m---> 10\u001b[0m \u001b[38;5;28;01mif\u001b[39;00m \u001b[38;5;129;01mnot\u001b[39;00m \u001b[43mvalidate_nwb\u001b[49m(nwbfile):\n\u001b[0;32m     11\u001b[0m     quit()\n",
      "\u001b[1;31mNameError\u001b[0m: name 'validate_nwb' is not defined"
     ]
    }
   ],
   "source": [
    "print(f\"Scanning {target_directory}...\")\n",
    "for dirpath, dirnames, filenames in os.walk(target_directory):\n",
    "    for filename in filenames:\n",
    "      if filename.endswith(\".nwb\"):\n",
    "          f = os.path.join(dirpath, filename)\n",
    "          with NWBHDF5IO(f, mode='r') as read_io:\n",
    "            nwbfile = read_io.read()\n",
    "            print(nwbfile.acquisition['NeuroPALImageRaw'].imaging_volume.optical_channel[0].emission_range[:])\n",
    "            \n",
    "            if not validate_nwb(nwbfile):\n",
    "                quit()"
   ]
  }
 ],
 "metadata": {
  "kernelspec": {
   "display_name": "Python 3 (ipykernel)",
   "language": "python",
   "name": "python3"
  },
  "language_info": {
   "codemirror_mode": {
    "name": "ipython",
    "version": 3
   },
   "file_extension": ".py",
   "mimetype": "text/x-python",
   "name": "python",
   "nbconvert_exporter": "python",
   "pygments_lexer": "ipython3",
   "version": "3.10.0"
  }
 },
 "nbformat": 4,
 "nbformat_minor": 5
}
