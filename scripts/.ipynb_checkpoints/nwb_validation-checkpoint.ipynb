{
 "cells": [
  {
   "cell_type": "code",
   "execution_count": 2,
   "id": "23514002-5e05-4752-93a3-061671d19cf5",
   "metadata": {},
   "outputs": [],
   "source": [
    "import os\n",
    "import math\n",
    "import pynwb\n",
    "from pynwb import NWBHDF5IO\n",
    "from nwb_validation_functions import validate_subject, validate_acquisitions, validate_processed"
   ]
  },
  {
   "cell_type": "code",
   "execution_count": 3,
   "id": "fe787e46-bfee-42af-be49-58f935338a17",
   "metadata": {},
   "outputs": [],
   "source": [
    "target_directory = 'F:\\\\0-sample_data\\\\venkatachalam'\n",
    "subjects_to_visualize = [1, 5, 10, 15, 20, 22, 25]"
   ]
  },
  {
   "cell_type": "code",
   "execution_count": 32,
   "id": "b295dd18-5d6b-48c0-bb46-129a52f4ced0",
   "metadata": {},
   "outputs": [
    {
     "ename": "SyntaxError",
     "evalue": "invalid syntax (1857294536.py, line 6)",
     "output_type": "error",
     "traceback": [
      "\u001b[1;36m  Cell \u001b[1;32mIn[32], line 6\u001b[1;36m\u001b[0m\n\u001b[1;33m    if nwb_obj.subject.species ~= subject_dict['species']:\u001b[0m\n\u001b[1;37m                               ^\u001b[0m\n\u001b[1;31mSyntaxError\u001b[0m\u001b[1;31m:\u001b[0m invalid syntax\n"
     ]
    }
   ],
   "source": [
    "def validate_nwb(nwb_obj):\n",
    "    issue_list = []\n",
    "    \n",
    "    subject_issues = validate_subject(nwb_obj)\n",
    "    if len(subject_issues) > 0:\n",
    "        issue_list.append(subject_issues)\n",
    "\n",
    "    acquisition_issues = validate_acquisition(nwb_obj)\n",
    "    if len(acquisition_issues) > 0:\n",
    "        issue_list.append(acquisition_issues)\n",
    "\n",
    "    processing_issues = validate_processed(nwb_obj)\n",
    "    if len(processing_issues) > 0:\n",
    "        issue_list.append(processing_issues)\n",
    "    \n",
    "    return len(issue_list) == 0"
   ]
  },
  {
   "cell_type": "code",
   "execution_count": 120,
   "id": "9e91bbc5-d5b7-49e6-8022-7826962b8927",
   "metadata": {},
   "outputs": [
    {
     "name": "stdout",
     "output_type": "stream",
     "text": [
      "Scanning F:\\0-sample_data\\venkatachalam...\n",
      "NeuroPAL pynwb.base.ProcessingModule at 0x2808704203216\n",
      "Fields:\n",
      "  data_interfaces: {\n",
      "    NeuroPALSegmentation <class 'pynwb.ophys.ImageSegmentation'>,\n",
      "    NeuroPAL_ID <class 'hdmf.common.table.DynamicTable'>,\n",
      "    TrackedNeurons <class 'pynwb.ophys.ImageSegmentation'>\n",
      "  }\n",
      "  description: NeuroPAL image metadata and segmentation\n",
      "\n"
     ]
    },
    {
     "ename": "NameError",
     "evalue": "name 'validate_nwb' is not defined",
     "output_type": "error",
     "traceback": [
      "\u001b[1;31m---------------------------------------------------------------------------\u001b[0m",
      "\u001b[1;31mNameError\u001b[0m                                 Traceback (most recent call last)",
      "Cell \u001b[1;32mIn[120], line 12\u001b[0m\n\u001b[0;32m      9\u001b[0m nwbfile \u001b[38;5;241m=\u001b[39m read_io\u001b[38;5;241m.\u001b[39mread()\n\u001b[0;32m     10\u001b[0m \u001b[38;5;28mprint\u001b[39m(nwbfile\u001b[38;5;241m.\u001b[39mprocessing[\u001b[38;5;124m'\u001b[39m\u001b[38;5;124mNeuroPAL\u001b[39m\u001b[38;5;124m'\u001b[39m])\n\u001b[1;32m---> 12\u001b[0m \u001b[38;5;28;01mif\u001b[39;00m \u001b[38;5;129;01mnot\u001b[39;00m \u001b[43mvalidate_nwb\u001b[49m(nwbfile):\n\u001b[0;32m     13\u001b[0m     quit()\n\u001b[0;32m     15\u001b[0m \u001b[38;5;28;01mif\u001b[39;00m f_num \u001b[38;5;129;01min\u001b[39;00m subject_to_visualize:\n",
      "\u001b[1;31mNameError\u001b[0m: name 'validate_nwb' is not defined"
     ]
    }
   ],
   "source": [
    "print(f\"Scanning {target_directory}...\")\n",
    "for dirpath, dirnames, filenames in os.walk(target_directory):\n",
    "    f_num = 0\n",
    "    for filename in filenames:\n",
    "      if filename.endswith(\".nwb\"):\n",
    "          f = os.path.join(dirpath, filename)\n",
    "          f_num += 1\n",
    "          with NWBHDF5IO(f, mode='r') as read_io:\n",
    "            nwbfile = read_io.read()\n",
    "            print(nwbfile.processing['NeuroPAL'])\n",
    "            \n",
    "            if not validate_nwb(nwbfile):\n",
    "                quit()\n",
    "\n",
    "            if f_num in subject_to_visualize:\n",
    "                visualize_nwb(nwbfile)"
   ]
  }
 ],
 "metadata": {
  "kernelspec": {
   "display_name": "Python 3 (ipykernel)",
   "language": "python",
   "name": "python3"
  },
  "language_info": {
   "codemirror_mode": {
    "name": "ipython",
    "version": 3
   },
   "file_extension": ".py",
   "mimetype": "text/x-python",
   "name": "python",
   "nbconvert_exporter": "python",
   "pygments_lexer": "ipython3",
   "version": "3.10.0"
  }
 },
 "nbformat": 4,
 "nbformat_minor": 5
}
