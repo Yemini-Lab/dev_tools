{
 "cells": [
  {
   "cell_type": "code",
   "execution_count": 1,
   "id": "2dc0f32b",
   "metadata": {},
   "outputs": [],
   "source": [
    "import scipy.io\n",
    "import configparser\n",
    "import datetime\n",
    "import gc\n",
    "import json\n",
    "import os\n",
    "import re\n",
    "from concurrent.futures import ThreadPoolExecutor\n",
    "from datetime import datetime\n",
    "from typing import Any, Dict\n",
    "import cv2\n",
    "import h5py\n",
    "import numpy as np\n",
    "import pandas as pd\n",
    "import scipy.io\n",
    "import skimage.io as skio\n",
    "import typing_extensions\n",
    "from dateutil import tz\n",
    "from hdmf.backends.hdf5.h5_utils import H5DataIO\n",
    "from hdmf.data_utils import DataChunkIterator\n",
    "from ndx_multichannel_volume import CElegansSubject, OpticalChannelReferences, OpticalChannelPlus, ImagingVolume, \\\n",
    "    MultiChannelVolume, MultiChannelVolumeSeries, SegmentationLabels\n",
    "from pynwb import NWBFile, NWBHDF5IO\n",
    "from pynwb.behavior import SpatialSeries, Position, BehavioralTimeSeries, BehavioralEvents\n",
    "from pynwb.ophys import ImageSegmentation, PlaneSegmentation, \\\n",
    "    DfOverF, RoiResponseSeries, Fluorescence\n",
    "from pynwb.image import ImageSeries\n",
    "from tifffile import TiffFile\n",
    "from tifffile import imread\n",
    "from tqdm import tqdm\n",
    "import nd2reader\n",
    "import nrrd\n",
    "from pathlib import Path\n",
    "\n",
    "from support_library.nwb.validation import validate\n",
    "from support_library.nwb.visualizer import visualize\n",
    "from support_library.nwb.fixer import fix_subject, fix_track"
   ]
  },
  {
   "cell_type": "code",
   "execution_count": 2,
   "id": "2a96bdef",
   "metadata": {},
   "outputs": [],
   "source": [
    "def iterate_over_directory(path):\n",
    "    ttl = 0\n",
    "    for root, dirs, files in os.walk(path):        \n",
    "        for file in files:\n",
    "            if \".nwb\" in file and \"updated\" not in file:\n",
    "                ttl += 1\n",
    "                filepath = os.path.join(root, file)\n",
    "                validation_summary = ''\n",
    "                    \n",
    "                with NWBHDF5IO(filepath, mode='r') as read_io:\n",
    "                    nwbfile = read_io.read()\n",
    "\n",
    "                    is_valid, validation_summary = validate_file(filepath, nwbfile)\n",
    "\n",
    "                    if ttl in subjects_to_visualize:\n",
    "                        visualize_file(filepath, nwbfile)\n",
    "\n",
    "                if not is_valid:\n",
    "                    update_file(filepath, validation_summary)\n",
    "                    \n",
    "                    \n",
    "def validate_file(filepath=None, nwbfile=None):\n",
    "    if filepath is None:\n",
    "        substring = \"\"\n",
    "    else:\n",
    "        substring = f\" {os.path.basename(filepath)}\"\n",
    "        \n",
    "    if nwbfile is None:\n",
    "        nwbfile = NWBHDF5IO(filepath, mode='r').read()\n",
    "        \n",
    "    print(f\" | Validating{substring}...\")\n",
    "    is_valid, validation_summary = validate(nwbfile)\n",
    "    print(f\" | Validation {'PASSED' if is_valid else 'FAILED'}:\")\n",
    "    print(f\" | | \" + validation_summary.replace('\\n', f'\\n | |'))\n",
    "    \n",
    "    return is_valid, validation_summary\n",
    "\n",
    "def visualize_file(filepath=None, nwbfile=None):\n",
    "    if filepath is None:\n",
    "        substring = \"\"\n",
    "    else:\n",
    "        substring = f\" {os.path.basename(filepath)}\"\n",
    "        \n",
    "    if nwbfile is None:\n",
    "        nwbfile = NWBHDF5IO(filepath, mode='r').read()\n",
    "    \n",
    "    print(f\" | Visualizing{substring}...\")\n",
    "    visualize(nwbfile)\n",
    "\n",
    "def update_file(filepath=None, validation_summary=None):          \n",
    "    with NWBHDF5IO(filepath, mode='r') as read_io:\n",
    "        nwbfile = read_io.read()\n",
    "        og_id = nwbfile.subject.subject_id\n",
    "        og_description = nwbfile.subject.description\n",
    "        \n",
    "    if \"Strain: not specified\" in validation_summary:\n",
    "        fix_subject(filepath, strain='OH15500', description=og_description.replace('[]', ''))\n",
    "    \n",
    "    fix_track(filepath, reference='maedeh')      "
   ]
  },
  {
   "cell_type": "code",
   "execution_count": 3,
   "id": "0ce0468a",
   "metadata": {
    "scrolled": false
   },
   "outputs": [
    {
     "name": "stderr",
     "output_type": "stream",
     "text": [
      "C:\\Users\\Kevin\\AppData\\Local\\Programs\\Python\\Python310\\lib\\site-packages\\hdmf\\spec\\namespace.py:535: UserWarning: Ignoring cached namespace 'core' version 2.6.0-alpha because version 2.7.0 is already loaded.\n",
      "  warn(\"Ignoring cached namespace '%s' version %s because version %s is already loaded.\"\n"
     ]
    },
    {
     "name": "stdout",
     "output_type": "stream",
     "text": [
      " | Validating sub-20220327-h2_ses-20220327_ophys.nwb...\n",
      " | Validation FAILED:\n",
      " | | Subject: PASSED\n",
      " | | Acquisitions: PASSED\n",
      " | | .processing Modules: PASSED\n",
      " | Validating sub-20220327-h4_ses-20220327_ophys.nwb...\n",
      " | Validation FAILED:\n",
      " | | Subject: PASSED\n",
      " | | Acquisitions: PASSED\n",
      " | | .processing Modules: PASSED\n",
      " | Validating sub-20220329-m10_ses-20220329_ophys.nwb...\n",
      " | Validation FAILED:\n",
      " | | Subject: PASSED\n",
      " | | Acquisitions: PASSED\n",
      " | | .processing Modules: PASSED\n"
     ]
    },
    {
     "ename": "FileNotFoundError",
     "evalue": "[Errno 2] Unable to open file (unable to open file: name = 'E:\\0-WORK\\1-UMASSCHAN\\Data\\venkatachalam\\maedeh_onedrive\\20220329\\hermaphrodite\\1\\annotations.h5', errno = 2, error message = 'No such file or directory', flags = 0, o_flags = 0)",
     "output_type": "error",
     "traceback": [
      "\u001b[1;31m---------------------------------------------------------------------------\u001b[0m",
      "\u001b[1;31mFileNotFoundError\u001b[0m                         Traceback (most recent call last)",
      "Cell \u001b[1;32mIn[3], line 4\u001b[0m\n\u001b[0;32m      1\u001b[0m path \u001b[38;5;241m=\u001b[39m \u001b[38;5;124m'\u001b[39m\u001b[38;5;124mE:\u001b[39m\u001b[38;5;130;01m\\\\\u001b[39;00m\u001b[38;5;124m0-WORK\u001b[39m\u001b[38;5;130;01m\\\\\u001b[39;00m\u001b[38;5;124m1-UMASSCHAN\u001b[39m\u001b[38;5;130;01m\\\\\u001b[39;00m\u001b[38;5;124mData\u001b[39m\u001b[38;5;130;01m\\\\\u001b[39;00m\u001b[38;5;124mvenkatachalam\u001b[39m\u001b[38;5;130;01m\\\\\u001b[39;00m\u001b[38;5;124m000981\u001b[39m\u001b[38;5;124m'\u001b[39m\n\u001b[0;32m      2\u001b[0m subjects_to_visualize \u001b[38;5;241m=\u001b[39m []\n\u001b[1;32m----> 4\u001b[0m \u001b[43miterate_over_directory\u001b[49m\u001b[43m(\u001b[49m\u001b[43mpath\u001b[49m\u001b[43m)\u001b[49m\n",
      "Cell \u001b[1;32mIn[2], line 19\u001b[0m, in \u001b[0;36miterate_over_directory\u001b[1;34m(path)\u001b[0m\n\u001b[0;32m     16\u001b[0m         visualize_file(filepath, nwbfile)\n\u001b[0;32m     18\u001b[0m \u001b[38;5;28;01mif\u001b[39;00m \u001b[38;5;129;01mnot\u001b[39;00m is_valid:\n\u001b[1;32m---> 19\u001b[0m     \u001b[43mupdate_file\u001b[49m\u001b[43m(\u001b[49m\u001b[43mfilepath\u001b[49m\u001b[43m,\u001b[49m\u001b[43m \u001b[49m\u001b[43mvalidation_summary\u001b[49m\u001b[43m)\u001b[49m\n",
      "Cell \u001b[1;32mIn[2], line 59\u001b[0m, in \u001b[0;36mupdate_file\u001b[1;34m(filepath, validation_summary)\u001b[0m\n\u001b[0;32m     56\u001b[0m \u001b[38;5;28;01mif\u001b[39;00m \u001b[38;5;124m\"\u001b[39m\u001b[38;5;124mStrain: not specified\u001b[39m\u001b[38;5;124m\"\u001b[39m \u001b[38;5;129;01min\u001b[39;00m validation_summary:\n\u001b[0;32m     57\u001b[0m     fix_subject(filepath, strain\u001b[38;5;241m=\u001b[39m\u001b[38;5;124m'\u001b[39m\u001b[38;5;124mOH15500\u001b[39m\u001b[38;5;124m'\u001b[39m, description\u001b[38;5;241m=\u001b[39mog_description\u001b[38;5;241m.\u001b[39mreplace(\u001b[38;5;124m'\u001b[39m\u001b[38;5;124m[]\u001b[39m\u001b[38;5;124m'\u001b[39m, \u001b[38;5;124m'\u001b[39m\u001b[38;5;124m'\u001b[39m))\n\u001b[1;32m---> 59\u001b[0m \u001b[43mfix_track\u001b[49m\u001b[43m(\u001b[49m\u001b[43mfilepath\u001b[49m\u001b[43m,\u001b[49m\u001b[43m \u001b[49m\u001b[43mreference\u001b[49m\u001b[38;5;241;43m=\u001b[39;49m\u001b[38;5;124;43m'\u001b[39;49m\u001b[38;5;124;43mmaedeh\u001b[39;49m\u001b[38;5;124;43m'\u001b[39;49m\u001b[43m)\u001b[49m\n",
      "File \u001b[1;32mE:\\0-WORK\\1-UMASSCHAN\\Code\\dev_tools\\nwb\\support_library\\nwb\\fixer.py:104\u001b[0m, in \u001b[0;36mfix_track\u001b[1;34m(filepath, reference)\u001b[0m\n\u001b[0;32m    101\u001b[0m reference_date, reference_run \u001b[38;5;241m=\u001b[39m maedeh_decode_subject(filepath)\n\u001b[0;32m    102\u001b[0m reference_path \u001b[38;5;241m=\u001b[39m \u001b[38;5;124mf\u001b[39m\u001b[38;5;124m\"\u001b[39m\u001b[38;5;124mE:\u001b[39m\u001b[38;5;130;01m\\\\\u001b[39;00m\u001b[38;5;124m0-WORK\u001b[39m\u001b[38;5;130;01m\\\\\u001b[39;00m\u001b[38;5;124m1-UMASSCHAN\u001b[39m\u001b[38;5;130;01m\\\\\u001b[39;00m\u001b[38;5;124mData\u001b[39m\u001b[38;5;130;01m\\\\\u001b[39;00m\u001b[38;5;124mvenkatachalam\u001b[39m\u001b[38;5;130;01m\\\\\u001b[39;00m\u001b[38;5;124mmaedeh_onedrive\u001b[39m\u001b[38;5;130;01m\\\\\u001b[39;00m\u001b[38;5;132;01m{\u001b[39;00mreference_date\u001b[38;5;132;01m}\u001b[39;00m\u001b[38;5;130;01m\\\\\u001b[39;00m\u001b[38;5;124mhermaphrodite\u001b[39m\u001b[38;5;130;01m\\\\\u001b[39;00m\u001b[38;5;132;01m{\u001b[39;00mreference_run\u001b[38;5;132;01m}\u001b[39;00m\u001b[38;5;124m\"\u001b[39m\n\u001b[1;32m--> 104\u001b[0m \u001b[38;5;28;01mwith\u001b[39;00m \u001b[43mh5py\u001b[49m\u001b[38;5;241;43m.\u001b[39;49m\u001b[43mFile\u001b[49m\u001b[43m(\u001b[49m\u001b[43mos\u001b[49m\u001b[38;5;241;43m.\u001b[39;49m\u001b[43mpath\u001b[49m\u001b[38;5;241;43m.\u001b[39;49m\u001b[43mjoin\u001b[49m\u001b[43m(\u001b[49m\u001b[43mreference_path\u001b[49m\u001b[43m,\u001b[49m\u001b[43m \u001b[49m\u001b[38;5;124;43m'\u001b[39;49m\u001b[38;5;124;43mannotations.h5\u001b[39;49m\u001b[38;5;124;43m'\u001b[39;49m\u001b[43m)\u001b[49m\u001b[43m,\u001b[49m\u001b[43m \u001b[49m\u001b[38;5;124;43m\"\u001b[39;49m\u001b[38;5;124;43mr\u001b[39;49m\u001b[38;5;124;43m\"\u001b[39;49m\u001b[43m)\u001b[49m \u001b[38;5;28;01mas\u001b[39;00m annotations:\n\u001b[0;32m    105\u001b[0m     \u001b[38;5;28;01mwith\u001b[39;00m h5py\u001b[38;5;241m.\u001b[39mFile(os\u001b[38;5;241m.\u001b[39mpath\u001b[38;5;241m.\u001b[39mjoin(reference_path, \u001b[38;5;124m'\u001b[39m\u001b[38;5;124mworldlines.h5\u001b[39m\u001b[38;5;124m'\u001b[39m), \u001b[38;5;124m\"\u001b[39m\u001b[38;5;124mr\u001b[39m\u001b[38;5;124m\"\u001b[39m) \u001b[38;5;28;01mas\u001b[39;00m worldlines:\n\u001b[0;32m    106\u001b[0m         all_wlids \u001b[38;5;241m=\u001b[39m worldlines[\u001b[38;5;124m'\u001b[39m\u001b[38;5;124mid\u001b[39m\u001b[38;5;124m'\u001b[39m][:]\n",
      "File \u001b[1;32m~\\AppData\\Local\\Programs\\Python\\Python310\\lib\\site-packages\\h5py\\_hl\\files.py:567\u001b[0m, in \u001b[0;36mFile.__init__\u001b[1;34m(self, name, mode, driver, libver, userblock_size, swmr, rdcc_nslots, rdcc_nbytes, rdcc_w0, track_order, fs_strategy, fs_persist, fs_threshold, fs_page_size, page_buf_size, min_meta_keep, min_raw_keep, locking, alignment_threshold, alignment_interval, meta_block_size, **kwds)\u001b[0m\n\u001b[0;32m    558\u001b[0m     fapl \u001b[38;5;241m=\u001b[39m make_fapl(driver, libver, rdcc_nslots, rdcc_nbytes, rdcc_w0,\n\u001b[0;32m    559\u001b[0m                      locking, page_buf_size, min_meta_keep, min_raw_keep,\n\u001b[0;32m    560\u001b[0m                      alignment_threshold\u001b[38;5;241m=\u001b[39malignment_threshold,\n\u001b[0;32m    561\u001b[0m                      alignment_interval\u001b[38;5;241m=\u001b[39malignment_interval,\n\u001b[0;32m    562\u001b[0m                      meta_block_size\u001b[38;5;241m=\u001b[39mmeta_block_size,\n\u001b[0;32m    563\u001b[0m                      \u001b[38;5;241m*\u001b[39m\u001b[38;5;241m*\u001b[39mkwds)\n\u001b[0;32m    564\u001b[0m     fcpl \u001b[38;5;241m=\u001b[39m make_fcpl(track_order\u001b[38;5;241m=\u001b[39mtrack_order, fs_strategy\u001b[38;5;241m=\u001b[39mfs_strategy,\n\u001b[0;32m    565\u001b[0m                      fs_persist\u001b[38;5;241m=\u001b[39mfs_persist, fs_threshold\u001b[38;5;241m=\u001b[39mfs_threshold,\n\u001b[0;32m    566\u001b[0m                      fs_page_size\u001b[38;5;241m=\u001b[39mfs_page_size)\n\u001b[1;32m--> 567\u001b[0m     fid \u001b[38;5;241m=\u001b[39m \u001b[43mmake_fid\u001b[49m\u001b[43m(\u001b[49m\u001b[43mname\u001b[49m\u001b[43m,\u001b[49m\u001b[43m \u001b[49m\u001b[43mmode\u001b[49m\u001b[43m,\u001b[49m\u001b[43m \u001b[49m\u001b[43muserblock_size\u001b[49m\u001b[43m,\u001b[49m\u001b[43m \u001b[49m\u001b[43mfapl\u001b[49m\u001b[43m,\u001b[49m\u001b[43m \u001b[49m\u001b[43mfcpl\u001b[49m\u001b[43m,\u001b[49m\u001b[43m \u001b[49m\u001b[43mswmr\u001b[49m\u001b[38;5;241;43m=\u001b[39;49m\u001b[43mswmr\u001b[49m\u001b[43m)\u001b[49m\n\u001b[0;32m    569\u001b[0m \u001b[38;5;28;01mif\u001b[39;00m \u001b[38;5;28misinstance\u001b[39m(libver, \u001b[38;5;28mtuple\u001b[39m):\n\u001b[0;32m    570\u001b[0m     \u001b[38;5;28mself\u001b[39m\u001b[38;5;241m.\u001b[39m_libver \u001b[38;5;241m=\u001b[39m libver\n",
      "File \u001b[1;32m~\\AppData\\Local\\Programs\\Python\\Python310\\lib\\site-packages\\h5py\\_hl\\files.py:231\u001b[0m, in \u001b[0;36mmake_fid\u001b[1;34m(name, mode, userblock_size, fapl, fcpl, swmr)\u001b[0m\n\u001b[0;32m    229\u001b[0m     \u001b[38;5;28;01mif\u001b[39;00m swmr \u001b[38;5;129;01mand\u001b[39;00m swmr_support:\n\u001b[0;32m    230\u001b[0m         flags \u001b[38;5;241m|\u001b[39m\u001b[38;5;241m=\u001b[39m h5f\u001b[38;5;241m.\u001b[39mACC_SWMR_READ\n\u001b[1;32m--> 231\u001b[0m     fid \u001b[38;5;241m=\u001b[39m \u001b[43mh5f\u001b[49m\u001b[38;5;241;43m.\u001b[39;49m\u001b[43mopen\u001b[49m\u001b[43m(\u001b[49m\u001b[43mname\u001b[49m\u001b[43m,\u001b[49m\u001b[43m \u001b[49m\u001b[43mflags\u001b[49m\u001b[43m,\u001b[49m\u001b[43m \u001b[49m\u001b[43mfapl\u001b[49m\u001b[38;5;241;43m=\u001b[39;49m\u001b[43mfapl\u001b[49m\u001b[43m)\u001b[49m\n\u001b[0;32m    232\u001b[0m \u001b[38;5;28;01melif\u001b[39;00m mode \u001b[38;5;241m==\u001b[39m \u001b[38;5;124m'\u001b[39m\u001b[38;5;124mr+\u001b[39m\u001b[38;5;124m'\u001b[39m:\n\u001b[0;32m    233\u001b[0m     fid \u001b[38;5;241m=\u001b[39m h5f\u001b[38;5;241m.\u001b[39mopen(name, h5f\u001b[38;5;241m.\u001b[39mACC_RDWR, fapl\u001b[38;5;241m=\u001b[39mfapl)\n",
      "File \u001b[1;32mh5py\\_objects.pyx:54\u001b[0m, in \u001b[0;36mh5py._objects.with_phil.wrapper\u001b[1;34m()\u001b[0m\n",
      "File \u001b[1;32mh5py\\_objects.pyx:55\u001b[0m, in \u001b[0;36mh5py._objects.with_phil.wrapper\u001b[1;34m()\u001b[0m\n",
      "File \u001b[1;32mh5py\\h5f.pyx:106\u001b[0m, in \u001b[0;36mh5py.h5f.open\u001b[1;34m()\u001b[0m\n",
      "\u001b[1;31mFileNotFoundError\u001b[0m: [Errno 2] Unable to open file (unable to open file: name = 'E:\\0-WORK\\1-UMASSCHAN\\Data\\venkatachalam\\maedeh_onedrive\\20220329\\hermaphrodite\\1\\annotations.h5', errno = 2, error message = 'No such file or directory', flags = 0, o_flags = 0)"
     ]
    }
   ],
   "source": [
    "path = 'E:\\\\0-WORK\\\\1-UMASSCHAN\\\\Data\\\\venkatachalam\\\\000981'\n",
    "subjects_to_visualize = []\n",
    "\n",
    "iterate_over_directory(path)"
   ]
  },
  {
   "cell_type": "code",
   "execution_count": null,
   "id": "727e4493",
   "metadata": {},
   "outputs": [],
   "source": [
    "\"\"\"\n",
    "\n",
    "tp = \"E:\\\\0-WORK\\\\1-UMASSCHAN\\\\Data\\\\venkatachalam\\\\000981\\\\sub-20220327-h2\\\\sub-20220327-h2_ses-20220327_ophys_updated.nwb\"\n",
    "    \n",
    "with NWBHDF5IO(tp, mode='r') as read_io:\n",
    "    nwbfile = read_io.read()\n",
    "    print(nwbfile.processing['NeuroPAL']['TrackedNeurons'][115])\n",
    "\n",
    "\"\"\""
   ]
  },
  {
   "cell_type": "code",
   "execution_count": null,
   "id": "b296bb90",
   "metadata": {},
   "outputs": [],
   "source": []
  }
 ],
 "metadata": {
  "kernelspec": {
   "display_name": "Python 3 (ipykernel)",
   "language": "python",
   "name": "python3"
  },
  "language_info": {
   "codemirror_mode": {
    "name": "ipython",
    "version": 3
   },
   "file_extension": ".py",
   "mimetype": "text/x-python",
   "name": "python",
   "nbconvert_exporter": "python",
   "pygments_lexer": "ipython3",
   "version": "3.10.10"
  }
 },
 "nbformat": 4,
 "nbformat_minor": 5
}
