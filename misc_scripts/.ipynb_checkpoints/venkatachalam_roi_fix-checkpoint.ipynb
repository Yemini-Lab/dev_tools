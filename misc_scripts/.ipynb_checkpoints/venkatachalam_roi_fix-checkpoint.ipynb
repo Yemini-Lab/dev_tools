{
 "cells": [
  {
   "cell_type": "code",
   "execution_count": 4,
   "id": "ff49d329",
   "metadata": {},
   "outputs": [],
   "source": [
    "import fsspec\n",
    "import pynwb\n",
    "import h5py\n",
    "import requests\n",
    "from tqdm import tqdm\n",
    "from dandi.dandiapi import DandiAPIClient\n",
    "from fsspec.implementations.cached import CachingFileSystem"
   ]
  },
  {
   "cell_type": "code",
   "execution_count": null,
   "id": "140d3dc5",
   "metadata": {},
   "outputs": [],
   "source": [
    "dandiset_id = '000981' # Venkatachalam dataset\n",
    "\n",
    "# URL to get dandi manifest\n",
    "url = f\"https://api.dandiarchive.org/api/dandisets/{dandiset_id}/versions/0.240625.0022/assets/?format=json\"\n",
    "\n",
    "# Grab list of file paths\n",
    "response = requests.get(url)\n",
    "data = response.json()\n",
    "paths = [result['path'] for result in data['results']]\n",
    "      \n",
    "# first, create a virtual filesystem based on the http protocol\n",
    "fs = fsspec.filesystem(\"http\")\n",
    "\n",
    "# create a cache to save downloaded data to disk (optional)\n",
    "fs = CachingFileSystem(\n",
    "    fs=fs,\n",
    "    cache_storage=\"nwb-cache\",  # Local folder for the cache\n",
    ")"
   ]
  },
  {
   "cell_type": "code",
   "execution_count": null,
   "id": "8bbd83fd",
   "metadata": {},
   "outputs": [],
   "source": [
    "# Iterate over each file\n",
    "for eachPath in tqdm(paths):\n",
    "  with DandiAPIClient() as client:\n",
    "      client.authenticate()\n",
    "      asset = client.get_dandiset(dandiset_id, 'draft').get_asset_by_path(eachPath)\n",
    "      s3_url = asset.get_content_url(follow_redirects=1, strip_query=True)\n",
    "\n",
    "  with fs.open(s3_url, \"rb\") as f:\n",
    "      with h5py.File(f) as file:\n",
    "          with pynwb.NWBHDF5IO(file=file) as io:\n",
    "            nwbfile = io.read()\n",
    "            tracked_rois = nwbfile.processing['NeuroPAL']['TrackedNeurons']['TrackedNeuronROIs']\n",
    "            print(tracked_rois)\n",
    "            quit()"
   ]
  }
 ],
 "metadata": {
  "kernelspec": {
   "display_name": "Python 3 (ipykernel)",
   "language": "python",
   "name": "python3"
  },
  "language_info": {
   "codemirror_mode": {
    "name": "ipython",
    "version": 3
   },
   "file_extension": ".py",
   "mimetype": "text/x-python",
   "name": "python",
   "nbconvert_exporter": "python",
   "pygments_lexer": "ipython3",
   "version": "3.10.10"
  }
 },
 "nbformat": 4,
 "nbformat_minor": 5
}
